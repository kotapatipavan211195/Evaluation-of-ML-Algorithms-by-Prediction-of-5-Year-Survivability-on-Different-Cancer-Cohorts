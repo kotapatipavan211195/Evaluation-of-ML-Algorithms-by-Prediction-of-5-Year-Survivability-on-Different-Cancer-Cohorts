{
 "cells": [
  {
   "cell_type": "markdown",
   "metadata": {},
   "source": [
    "# Decision tree Gini"
   ]
  },
  {
   "cell_type": "code",
   "execution_count": null,
   "metadata": {},
   "outputs": [],
   "source": [
    "#Package Contents\n",
    "import numpy as np\n",
    "import pandas as pd\n",
    "from scipy import interp\n",
    "import matplotlib.pyplot as plt\n",
    "#sampling\n",
    "from imblearn.over_sampling import RandomOverSampler\n",
    "from imblearn.under_sampling import RandomUnderSampler\n",
    "#metrics\n",
    "from sklearn.model_selection import train_test_split\n",
    "from sklearn.metrics import accuracy_score\n",
    "from sklearn.metrics import classification_report\n",
    "from sklearn.metrics import confusion_matrix\n",
    "#ROC\n",
    "from sklearn.metrics import roc_auc_score\n",
    "from sklearn.metrics import auc\n",
    "from sklearn.metrics import roc_curve\n",
    "#model\n",
    "from sklearn.model_selection import StratifiedKFold\n",
    "from sklearn.tree import DecisionTreeClassifier"
   ]
  },
  {
   "cell_type": "code",
   "execution_count": null,
   "metadata": {},
   "outputs": [],
   "source": [
    "balance_data = pd.read_csv(\"data_path_name\")"
   ]
  },
  {
   "cell_type": "code",
   "execution_count": null,
   "metadata": {},
   "outputs": [],
   "source": [
    "print(balance_data.shape)"
   ]
  },
  {
   "cell_type": "code",
   "execution_count": null,
   "metadata": {},
   "outputs": [],
   "source": [
    "# Seperating the target variable\n",
    "X = balance_data.values[:, 0:29]\n",
    "Y = balance_data.values[:, -1]"
   ]
  },
  {
   "cell_type": "code",
   "execution_count": null,
   "metadata": {},
   "outputs": [],
   "source": [
    "skf=StratifiedKFold(n_splits=10, shuffle=False)"
   ]
  },
  {
   "cell_type": "code",
   "execution_count": null,
   "metadata": {},
   "outputs": [],
   "source": [
    "# Creating the classifier object\n",
    "clf_gini = DecisionTreeClassifier(criterion = \"gini\", min_samples_leaf=10)\n",
    "print(clf_gini)"
   ]
  },
  {
   "cell_type": "code",
   "execution_count": null,
   "metadata": {},
   "outputs": [],
   "source": [
    "nrl_confusion_matrix=[]\n",
    "ovr_confusion_matrix=[]\n",
    "udr_confusion_matrix=[]"
   ]
  },
  {
   "cell_type": "code",
   "execution_count": null,
   "metadata": {},
   "outputs": [],
   "source": [
    "#Normal\n",
    "for train_index, test_index in skf.split(X,Y):\n",
    "    X_train, X_test, Y_train, Y_test = X[train_index], X[test_index], Y[train_index], Y[test_index]\n",
    "    clf_gini = clf_gini.fit(X_train, Y_train)\n",
    "    Y_pred= clf_gini.predict(X_test)\n",
    "    nrl_confusion_matrix.append(confusion_matrix(Y_test, Y_pred))\n",
    "nrl_matrix_score=np.sum(nrl_confusion_matrix, axis=0)\n",
    "print('Confusion Matrix:', nrl_matrix_score)"
   ]
  },
  {
   "cell_type": "code",
   "execution_count": null,
   "metadata": {},
   "outputs": [],
   "source": [
    "#Over\n",
    "for train_index, test_index in skf.split(X,Y):\n",
    "    X_train, X_test, Y_train, Y_test = X[train_index], X[test_index], Y[train_index], Y[test_index]\n",
    "    ros = RandomOverSampler()\n",
    "    X_train_ovr, Y_train_ovr = ros.fit_sample(X_train, Y_train)\n",
    "    clf_gini = clf_gini.fit(X_train_ovr, Y_train_ovr)\n",
    "    Y_pred= clf_gini.predict(X_test)\n",
    "    ovr_confusion_matrix.append(confusion_matrix(Y_test, Y_pred))\n",
    "ovr_matrix_score=np.sum(ovr_confusion_matrix, axis=0)\n",
    "print('Confusion Matrix:', ovr_matrix_score)"
   ]
  },
  {
   "cell_type": "code",
   "execution_count": null,
   "metadata": {},
   "outputs": [],
   "source": [
    "#Under\n",
    "for train_index, test_index in skf.split(X,Y):\n",
    "    X_train, X_test, Y_train, Y_test = X[train_index], X[test_index], Y[train_index], Y[test_index]\n",
    "    ros = RandomUnderSampler()\n",
    "    X_train_udr, Y_train_udr = ros.fit_sample(X_train, Y_train)\n",
    "    clf_gini = clf_gini.fit(X_train_udr, Y_train_udr)\n",
    "    Y_pred= clf_gini.predict(X_test)\n",
    "    udr_confusion_matrix.append(confusion_matrix(Y_test, Y_pred))\n",
    "udr_matrix_score=np.sum(udr_confusion_matrix, axis=0)\n",
    "print('Confusion Matrix:', udr_matrix_score)"
   ]
  }
 ],
 "metadata": {
  "kernelspec": {
   "display_name": "Python 3",
   "language": "python",
   "name": "python3"
  },
  "language_info": {
   "codemirror_mode": {
    "name": "ipython",
    "version": 3
   },
   "file_extension": ".py",
   "mimetype": "text/x-python",
   "name": "python",
   "nbconvert_exporter": "python",
   "pygments_lexer": "ipython3",
   "version": "3.7.3"
  }
 },
 "nbformat": 4,
 "nbformat_minor": 2
}
